{
  "nbformat": 4,
  "nbformat_minor": 0,
  "metadata": {
    "colab": {
      "provenance": [],
      "gpuType": "T4",
      "include_colab_link": true
    },
    "kernelspec": {
      "name": "python3",
      "display_name": "Python 3"
    },
    "language_info": {
      "name": "python"
    },
    "accelerator": "GPU"
  },
  "cells": [
    {
      "cell_type": "markdown",
      "metadata": {
        "id": "view-in-github",
        "colab_type": "text"
      },
      "source": [
        "<a href=\"https://colab.research.google.com/github/ums-l200220234/ums-l200220234.github.io/blob/main/data_cleaning.ipynb\" target=\"_parent\"><img src=\"https://colab.research.google.com/assets/colab-badge.svg\" alt=\"Open In Colab\"/></a>"
      ]
    },
    {
      "cell_type": "markdown",
      "source": [
        "# MengImport dan Menginstall Library yang diperlukan untuk Preprocessing dan Clustering"
      ],
      "metadata": {
        "id": "I3V2Wbb9w5cj"
      }
    },
    {
      "cell_type": "code",
      "source": [
        "!pip install Sastrawi"
      ],
      "metadata": {
        "colab": {
          "base_uri": "https://localhost:8080/"
        },
        "id": "opLmV4PZprF3",
        "outputId": "093e436f-65c1-4a15-d699-f6a7598718b0"
      },
      "execution_count": null,
      "outputs": [
        {
          "output_type": "stream",
          "name": "stdout",
          "text": [
            "Collecting Sastrawi\n",
            "  Downloading Sastrawi-1.0.1-py2.py3-none-any.whl.metadata (909 bytes)\n",
            "Downloading Sastrawi-1.0.1-py2.py3-none-any.whl (209 kB)\n",
            "\u001b[?25l   \u001b[90m━━━━━━━━━━━━━━━━━━━━━━━━━━━━━━━━━━━━━━━━\u001b[0m \u001b[32m0.0/209.7 kB\u001b[0m \u001b[31m?\u001b[0m eta \u001b[36m-:--:--\u001b[0m\r\u001b[2K   \u001b[90m━━━━━━━━━━━━━━━━━━━━━━━━━━━━━━━━━━━━━━━━\u001b[0m \u001b[32m209.7/209.7 kB\u001b[0m \u001b[31m6.5 MB/s\u001b[0m eta \u001b[36m0:00:00\u001b[0m\n",
            "\u001b[?25hInstalling collected packages: Sastrawi\n",
            "Successfully installed Sastrawi-1.0.1\n"
          ]
        }
      ]
    },
    {
      "cell_type": "code",
      "execution_count": null,
      "metadata": {
        "id": "95XntyeRPrr7"
      },
      "outputs": [],
      "source": [
        "import pandas as pd\n",
        "from sklearn.feature_extraction.text import TfidfVectorizer\n",
        "from sklearn.cluster import KMeans\n",
        "from sklearn.preprocessing import StandardScaler, Normalizer\n",
        "from sklearn.preprocessing import StandardScaler\n",
        "from Sastrawi.Stemmer.StemmerFactory import StemmerFactory\n",
        "from nltk.tokenize import word_tokenize\n",
        "from nltk.corpus import wordnet\n",
        "from nltk.stem import WordNetLemmatizer\n",
        "import matplotlib.pyplot as plt\n",
        "import numpy as np\n",
        "import string\n",
        "import nltk\n",
        "import re\n",
        "import tarfile\n",
        "import torch"
      ]
    },
    {
      "cell_type": "code",
      "source": [
        "nltk.download('punkt')\n",
        "nltk.download('punkt_tab')\n",
        "nltk.download('wordnet')\n",
        "nltk.download('omw-1.4')"
      ],
      "metadata": {
        "id": "BjSEsT123HrJ",
        "colab": {
          "base_uri": "https://localhost:8080/"
        },
        "outputId": "4b8deffd-07f9-42e6-9e59-ca71353b6859"
      },
      "execution_count": null,
      "outputs": [
        {
          "output_type": "stream",
          "name": "stderr",
          "text": [
            "[nltk_data] Downloading package punkt to /root/nltk_data...\n",
            "[nltk_data]   Unzipping tokenizers/punkt.zip.\n",
            "[nltk_data] Downloading package punkt_tab to /root/nltk_data...\n",
            "[nltk_data]   Unzipping tokenizers/punkt_tab.zip.\n",
            "[nltk_data] Downloading package wordnet to /root/nltk_data...\n",
            "[nltk_data] Downloading package omw-1.4 to /root/nltk_data...\n"
          ]
        },
        {
          "output_type": "execute_result",
          "data": {
            "text/plain": [
              "True"
            ]
          },
          "metadata": {},
          "execution_count": 3
        }
      ]
    },
    {
      "cell_type": "code",
      "source": [
        "factory = StemmerFactory()\n",
        "stemmer = factory.create_stemmer()\n",
        "lemmatizer = WordNetLemmatizer()"
      ],
      "metadata": {
        "id": "S5rSwBDQqC-z"
      },
      "execution_count": null,
      "outputs": []
    },
    {
      "cell_type": "markdown",
      "source": [
        "# Preprocessing Dataset yang akan di Clustering"
      ],
      "metadata": {
        "id": "TPvBSktbxF3k"
      }
    },
    {
      "cell_type": "markdown",
      "source": [
        "## Pemrosesan untuk Metaflow"
      ],
      "metadata": {
        "id": "RYkv36cOcT9_"
      }
    },
    {
      "cell_type": "code",
      "source": [
        "file_path = \"/content/sample_data/Chat_Raw_Dataset.txt\"\n",
        "\n",
        "data = []\n",
        "with open(file_path, 'r', encoding='utf-8') as file:\n",
        "    for line in file:\n",
        "        match = re.match(r\"(\\d+/\\d+/\\d+), (\\d+:\\d+\\s[AP]M) - (.*?): (.*)\", line.strip())\n",
        "        if match:\n",
        "            tanggal, waktu, nama, pesan = match.groups()\n",
        "            data.append({\"Tanggal\": tanggal, \"Waktu\": waktu, \"Konten\": nama + ': ' + pesan,})"
      ],
      "metadata": {
        "id": "iJ5M1_99P61J"
      },
      "execution_count": null,
      "outputs": []
    },
    {
      "cell_type": "code",
      "source": [
        "df = pd.DataFrame(data)\n",
        "csv_file = 'chat_cleaned.csv'\n",
        "df.to_csv(csv_file, index=False)"
      ],
      "metadata": {
        "id": "3Lyp3f1JQg-x"
      },
      "execution_count": null,
      "outputs": []
    },
    {
      "cell_type": "code",
      "source": [
        "df.head()"
      ],
      "metadata": {
        "colab": {
          "base_uri": "https://localhost:8080/",
          "height": 206
        },
        "id": "cvdNZFcGQpkQ",
        "outputId": "e9f95a1b-c09a-49c6-e6aa-453b2266b7a7"
      },
      "execution_count": null,
      "outputs": [
        {
          "output_type": "execute_result",
          "data": {
            "text/plain": [
              "   Tanggal    Waktu                                             Konten\n",
              "0  8/16/22  3:13 PM  Linda: Assalamu'alaikum temen temen. Pak Marma...\n",
              "1  8/16/22  3:14 PM  Laily: Wa'alaikumussalam Tante, ga pake cap 3 ...\n",
              "2  8/16/22  3:30 PM  Linda: Ya ambil ijazah kan mesti sambil cap 3 ...\n",
              "3  8/16/22  3:31 PM                   Laily: Oke Tante Linda , makasih\n",
              "4  8/16/22  3:31 PM  Ghulami'ah: Titip tangan, buat nanti cap tiga ..."
            ],
            "text/html": [
              "\n",
              "  <div id=\"df-ddcc1b80-edc8-4be7-a3a2-89b9fdc32b39\" class=\"colab-df-container\">\n",
              "    <div>\n",
              "<style scoped>\n",
              "    .dataframe tbody tr th:only-of-type {\n",
              "        vertical-align: middle;\n",
              "    }\n",
              "\n",
              "    .dataframe tbody tr th {\n",
              "        vertical-align: top;\n",
              "    }\n",
              "\n",
              "    .dataframe thead th {\n",
              "        text-align: right;\n",
              "    }\n",
              "</style>\n",
              "<table border=\"1\" class=\"dataframe\">\n",
              "  <thead>\n",
              "    <tr style=\"text-align: right;\">\n",
              "      <th></th>\n",
              "      <th>Tanggal</th>\n",
              "      <th>Waktu</th>\n",
              "      <th>Konten</th>\n",
              "    </tr>\n",
              "  </thead>\n",
              "  <tbody>\n",
              "    <tr>\n",
              "      <th>0</th>\n",
              "      <td>8/16/22</td>\n",
              "      <td>3:13 PM</td>\n",
              "      <td>Linda: Assalamu'alaikum temen temen. Pak Marma...</td>\n",
              "    </tr>\n",
              "    <tr>\n",
              "      <th>1</th>\n",
              "      <td>8/16/22</td>\n",
              "      <td>3:14 PM</td>\n",
              "      <td>Laily: Wa'alaikumussalam Tante, ga pake cap 3 ...</td>\n",
              "    </tr>\n",
              "    <tr>\n",
              "      <th>2</th>\n",
              "      <td>8/16/22</td>\n",
              "      <td>3:30 PM</td>\n",
              "      <td>Linda: Ya ambil ijazah kan mesti sambil cap 3 ...</td>\n",
              "    </tr>\n",
              "    <tr>\n",
              "      <th>3</th>\n",
              "      <td>8/16/22</td>\n",
              "      <td>3:31 PM</td>\n",
              "      <td>Laily: Oke Tante Linda , makasih</td>\n",
              "    </tr>\n",
              "    <tr>\n",
              "      <th>4</th>\n",
              "      <td>8/16/22</td>\n",
              "      <td>3:31 PM</td>\n",
              "      <td>Ghulami'ah: Titip tangan, buat nanti cap tiga ...</td>\n",
              "    </tr>\n",
              "  </tbody>\n",
              "</table>\n",
              "</div>\n",
              "    <div class=\"colab-df-buttons\">\n",
              "\n",
              "  <div class=\"colab-df-container\">\n",
              "    <button class=\"colab-df-convert\" onclick=\"convertToInteractive('df-ddcc1b80-edc8-4be7-a3a2-89b9fdc32b39')\"\n",
              "            title=\"Convert this dataframe to an interactive table.\"\n",
              "            style=\"display:none;\">\n",
              "\n",
              "  <svg xmlns=\"http://www.w3.org/2000/svg\" height=\"24px\" viewBox=\"0 -960 960 960\">\n",
              "    <path d=\"M120-120v-720h720v720H120Zm60-500h600v-160H180v160Zm220 220h160v-160H400v160Zm0 220h160v-160H400v160ZM180-400h160v-160H180v160Zm440 0h160v-160H620v160ZM180-180h160v-160H180v160Zm440 0h160v-160H620v160Z\"/>\n",
              "  </svg>\n",
              "    </button>\n",
              "\n",
              "  <style>\n",
              "    .colab-df-container {\n",
              "      display:flex;\n",
              "      gap: 12px;\n",
              "    }\n",
              "\n",
              "    .colab-df-convert {\n",
              "      background-color: #E8F0FE;\n",
              "      border: none;\n",
              "      border-radius: 50%;\n",
              "      cursor: pointer;\n",
              "      display: none;\n",
              "      fill: #1967D2;\n",
              "      height: 32px;\n",
              "      padding: 0 0 0 0;\n",
              "      width: 32px;\n",
              "    }\n",
              "\n",
              "    .colab-df-convert:hover {\n",
              "      background-color: #E2EBFA;\n",
              "      box-shadow: 0px 1px 2px rgba(60, 64, 67, 0.3), 0px 1px 3px 1px rgba(60, 64, 67, 0.15);\n",
              "      fill: #174EA6;\n",
              "    }\n",
              "\n",
              "    .colab-df-buttons div {\n",
              "      margin-bottom: 4px;\n",
              "    }\n",
              "\n",
              "    [theme=dark] .colab-df-convert {\n",
              "      background-color: #3B4455;\n",
              "      fill: #D2E3FC;\n",
              "    }\n",
              "\n",
              "    [theme=dark] .colab-df-convert:hover {\n",
              "      background-color: #434B5C;\n",
              "      box-shadow: 0px 1px 3px 1px rgba(0, 0, 0, 0.15);\n",
              "      filter: drop-shadow(0px 1px 2px rgba(0, 0, 0, 0.3));\n",
              "      fill: #FFFFFF;\n",
              "    }\n",
              "  </style>\n",
              "\n",
              "    <script>\n",
              "      const buttonEl =\n",
              "        document.querySelector('#df-ddcc1b80-edc8-4be7-a3a2-89b9fdc32b39 button.colab-df-convert');\n",
              "      buttonEl.style.display =\n",
              "        google.colab.kernel.accessAllowed ? 'block' : 'none';\n",
              "\n",
              "      async function convertToInteractive(key) {\n",
              "        const element = document.querySelector('#df-ddcc1b80-edc8-4be7-a3a2-89b9fdc32b39');\n",
              "        const dataTable =\n",
              "          await google.colab.kernel.invokeFunction('convertToInteractive',\n",
              "                                                    [key], {});\n",
              "        if (!dataTable) return;\n",
              "\n",
              "        const docLinkHtml = 'Like what you see? Visit the ' +\n",
              "          '<a target=\"_blank\" href=https://colab.research.google.com/notebooks/data_table.ipynb>data table notebook</a>'\n",
              "          + ' to learn more about interactive tables.';\n",
              "        element.innerHTML = '';\n",
              "        dataTable['output_type'] = 'display_data';\n",
              "        await google.colab.output.renderOutput(dataTable, element);\n",
              "        const docLink = document.createElement('div');\n",
              "        docLink.innerHTML = docLinkHtml;\n",
              "        element.appendChild(docLink);\n",
              "      }\n",
              "    </script>\n",
              "  </div>\n",
              "\n",
              "\n",
              "<div id=\"df-2faf1439-fa17-4c2c-b065-167e35668434\">\n",
              "  <button class=\"colab-df-quickchart\" onclick=\"quickchart('df-2faf1439-fa17-4c2c-b065-167e35668434')\"\n",
              "            title=\"Suggest charts\"\n",
              "            style=\"display:none;\">\n",
              "\n",
              "<svg xmlns=\"http://www.w3.org/2000/svg\" height=\"24px\"viewBox=\"0 0 24 24\"\n",
              "     width=\"24px\">\n",
              "    <g>\n",
              "        <path d=\"M19 3H5c-1.1 0-2 .9-2 2v14c0 1.1.9 2 2 2h14c1.1 0 2-.9 2-2V5c0-1.1-.9-2-2-2zM9 17H7v-7h2v7zm4 0h-2V7h2v10zm4 0h-2v-4h2v4z\"/>\n",
              "    </g>\n",
              "</svg>\n",
              "  </button>\n",
              "\n",
              "<style>\n",
              "  .colab-df-quickchart {\n",
              "      --bg-color: #E8F0FE;\n",
              "      --fill-color: #1967D2;\n",
              "      --hover-bg-color: #E2EBFA;\n",
              "      --hover-fill-color: #174EA6;\n",
              "      --disabled-fill-color: #AAA;\n",
              "      --disabled-bg-color: #DDD;\n",
              "  }\n",
              "\n",
              "  [theme=dark] .colab-df-quickchart {\n",
              "      --bg-color: #3B4455;\n",
              "      --fill-color: #D2E3FC;\n",
              "      --hover-bg-color: #434B5C;\n",
              "      --hover-fill-color: #FFFFFF;\n",
              "      --disabled-bg-color: #3B4455;\n",
              "      --disabled-fill-color: #666;\n",
              "  }\n",
              "\n",
              "  .colab-df-quickchart {\n",
              "    background-color: var(--bg-color);\n",
              "    border: none;\n",
              "    border-radius: 50%;\n",
              "    cursor: pointer;\n",
              "    display: none;\n",
              "    fill: var(--fill-color);\n",
              "    height: 32px;\n",
              "    padding: 0;\n",
              "    width: 32px;\n",
              "  }\n",
              "\n",
              "  .colab-df-quickchart:hover {\n",
              "    background-color: var(--hover-bg-color);\n",
              "    box-shadow: 0 1px 2px rgba(60, 64, 67, 0.3), 0 1px 3px 1px rgba(60, 64, 67, 0.15);\n",
              "    fill: var(--button-hover-fill-color);\n",
              "  }\n",
              "\n",
              "  .colab-df-quickchart-complete:disabled,\n",
              "  .colab-df-quickchart-complete:disabled:hover {\n",
              "    background-color: var(--disabled-bg-color);\n",
              "    fill: var(--disabled-fill-color);\n",
              "    box-shadow: none;\n",
              "  }\n",
              "\n",
              "  .colab-df-spinner {\n",
              "    border: 2px solid var(--fill-color);\n",
              "    border-color: transparent;\n",
              "    border-bottom-color: var(--fill-color);\n",
              "    animation:\n",
              "      spin 1s steps(1) infinite;\n",
              "  }\n",
              "\n",
              "  @keyframes spin {\n",
              "    0% {\n",
              "      border-color: transparent;\n",
              "      border-bottom-color: var(--fill-color);\n",
              "      border-left-color: var(--fill-color);\n",
              "    }\n",
              "    20% {\n",
              "      border-color: transparent;\n",
              "      border-left-color: var(--fill-color);\n",
              "      border-top-color: var(--fill-color);\n",
              "    }\n",
              "    30% {\n",
              "      border-color: transparent;\n",
              "      border-left-color: var(--fill-color);\n",
              "      border-top-color: var(--fill-color);\n",
              "      border-right-color: var(--fill-color);\n",
              "    }\n",
              "    40% {\n",
              "      border-color: transparent;\n",
              "      border-right-color: var(--fill-color);\n",
              "      border-top-color: var(--fill-color);\n",
              "    }\n",
              "    60% {\n",
              "      border-color: transparent;\n",
              "      border-right-color: var(--fill-color);\n",
              "    }\n",
              "    80% {\n",
              "      border-color: transparent;\n",
              "      border-right-color: var(--fill-color);\n",
              "      border-bottom-color: var(--fill-color);\n",
              "    }\n",
              "    90% {\n",
              "      border-color: transparent;\n",
              "      border-bottom-color: var(--fill-color);\n",
              "    }\n",
              "  }\n",
              "</style>\n",
              "\n",
              "  <script>\n",
              "    async function quickchart(key) {\n",
              "      const quickchartButtonEl =\n",
              "        document.querySelector('#' + key + ' button');\n",
              "      quickchartButtonEl.disabled = true;  // To prevent multiple clicks.\n",
              "      quickchartButtonEl.classList.add('colab-df-spinner');\n",
              "      try {\n",
              "        const charts = await google.colab.kernel.invokeFunction(\n",
              "            'suggestCharts', [key], {});\n",
              "      } catch (error) {\n",
              "        console.error('Error during call to suggestCharts:', error);\n",
              "      }\n",
              "      quickchartButtonEl.classList.remove('colab-df-spinner');\n",
              "      quickchartButtonEl.classList.add('colab-df-quickchart-complete');\n",
              "    }\n",
              "    (() => {\n",
              "      let quickchartButtonEl =\n",
              "        document.querySelector('#df-2faf1439-fa17-4c2c-b065-167e35668434 button');\n",
              "      quickchartButtonEl.style.display =\n",
              "        google.colab.kernel.accessAllowed ? 'block' : 'none';\n",
              "    })();\n",
              "  </script>\n",
              "</div>\n",
              "\n",
              "    </div>\n",
              "  </div>\n"
            ],
            "application/vnd.google.colaboratory.intrinsic+json": {
              "type": "dataframe",
              "variable_name": "df",
              "summary": "{\n  \"name\": \"df\",\n  \"rows\": 7780,\n  \"fields\": [\n    {\n      \"column\": \"Tanggal\",\n      \"properties\": {\n        \"dtype\": \"object\",\n        \"num_unique_values\": 338,\n        \"samples\": [\n          \"3/12/23\",\n          \"11/24/24\",\n          \"6/30/23\"\n        ],\n        \"semantic_type\": \"\",\n        \"description\": \"\"\n      }\n    },\n    {\n      \"column\": \"Waktu\",\n      \"properties\": {\n        \"dtype\": \"object\",\n        \"num_unique_values\": 1105,\n        \"samples\": [\n          \"10:13\\u202fPM\",\n          \"1:50\\u202fPM\",\n          \"10:33\\u202fPM\"\n        ],\n        \"semantic_type\": \"\",\n        \"description\": \"\"\n      }\n    },\n    {\n      \"column\": \"Konten\",\n      \"properties\": {\n        \"dtype\": \"string\",\n        \"num_unique_values\": 6483,\n        \"samples\": [\n          \"Aisy: Pesan u/ adminn sljte bikin tros yea wkwkwww\",\n          \"Aisy: sek ono tugas san\",\n          \"Anisa Nurmaharani: happy birthdayyyy LELI\"\n        ],\n        \"semantic_type\": \"\",\n        \"description\": \"\"\n      }\n    }\n  ]\n}"
            }
          },
          "metadata": {},
          "execution_count": 7
        }
      ]
    },
    {
      "source": [
        "print(df.shape)"
      ],
      "cell_type": "code",
      "metadata": {
        "colab": {
          "base_uri": "https://localhost:8080/"
        },
        "id": "79WqY2KMQwdi",
        "outputId": "aba87c7d-8fb4-48ca-d6f5-3906c4f0ac30"
      },
      "execution_count": null,
      "outputs": [
        {
          "output_type": "stream",
          "name": "stdout",
          "text": [
            "(7780, 3)\n"
          ]
        }
      ]
    },
    {
      "cell_type": "code",
      "source": [
        "with tarfile.open('chat_cleaned.tar', mode='w') as tar:\n",
        "    tar.add('chat_cleaned.csv', arcname='chat_cleaned.csv')"
      ],
      "metadata": {
        "id": "iCjSil1HQrh_"
      },
      "execution_count": null,
      "outputs": []
    },
    {
      "cell_type": "markdown",
      "source": [
        "## Pemrosesan untuk Clustering"
      ],
      "metadata": {
        "id": "27ROWssDcaW7"
      }
    },
    {
      "cell_type": "code",
      "source": [
        "def load_dataset(file_path):\n",
        "    df = pd.read_csv(file_path)\n",
        "    print(f\"Dataset loaded with {len(df)} records.\")\n",
        "    return df"
      ],
      "metadata": {
        "id": "fxSeojiMcpnR"
      },
      "execution_count": null,
      "outputs": []
    },
    {
      "cell_type": "code",
      "source": [
        "df = load_dataset(\"/content/chat_cleaned.csv\")"
      ],
      "metadata": {
        "colab": {
          "base_uri": "https://localhost:8080/"
        },
        "id": "7bfL8wDee2Qz",
        "outputId": "d59d7bc2-0d93-40e2-eb32-cdbffd88bf9b"
      },
      "execution_count": null,
      "outputs": [
        {
          "output_type": "stream",
          "name": "stdout",
          "text": [
            "Dataset loaded with 7780 records.\n"
          ]
        }
      ]
    },
    {
      "cell_type": "code",
      "source": [
        "def clean_data(df):\n",
        "    df = df.dropna(subset=['Konten'])\n",
        "    df = df[df['Konten'].str.strip() != \"\"]\n",
        "    df = df.head(1000)\n",
        "    print(f\"Dataset cleaned. Remaining records: {len(df)}.\")\n",
        "    return df"
      ],
      "metadata": {
        "id": "OuEZ1VSMe39I"
      },
      "execution_count": null,
      "outputs": []
    },
    {
      "cell_type": "code",
      "source": [
        "def preprocess_text(text):\n",
        "    text = text.lower()\n",
        "    text = text.translate(str.maketrans('', '', string.punctuation))\n",
        "    words = word_tokenize(text)\n",
        "    stemmed_words = [stemmer.stem(word) for word in words]\n",
        "    lemmatized_words = [lemmatizer.lemmatize(word, pos=wordnet.VERB) for word in stemmed_words]\n",
        "    return ' '.join(lemmatized_words)"
      ],
      "metadata": {
        "id": "QEaXxc1eqhMa"
      },
      "execution_count": null,
      "outputs": []
    },
    {
      "cell_type": "code",
      "source": [
        "def preprocess_batch_gpu(texts):\n",
        "    device = torch.device(\"cuda\" if torch.cuda.is_available() else \"cpu\")\n",
        "    results = []\n",
        "    for text in texts:\n",
        "        processed_text = preprocess_text(text)\n",
        "        results.append(processed_text)\n",
        "    return results"
      ],
      "metadata": {
        "id": "hu_JVxBlrKJB"
      },
      "execution_count": null,
      "outputs": []
    },
    {
      "cell_type": "code",
      "source": [
        "def preprocess_dataset(df):\n",
        "    df = clean_data(df)\n",
        "    df['Processed_Konten'] = df['Konten'].apply(preprocess_text)\n",
        "    print(\"Preprocessing completed.\")\n",
        "    return df\n"
      ],
      "metadata": {
        "id": "biPG-X8MqlNa"
      },
      "execution_count": null,
      "outputs": []
    },
    {
      "cell_type": "code",
      "source": [
        "### Hanya Gunakan Jika ingin pre-proses data dengan gpu\n",
        "def preprocess_dataset(df):\n",
        "    df = clean_data(df)\n",
        "    df['Processed_Konten'] = preprocess_batch_gpu(df['Konten'].tolist())\n",
        "    print(\"Preprocessing completed.\")\n",
        "    return df\n"
      ],
      "metadata": {
        "id": "LaxcgXckx8su"
      },
      "execution_count": null,
      "outputs": []
    },
    {
      "cell_type": "code",
      "source": [
        "df = clean_data(df)\n",
        "df = preprocess_dataset(df)"
      ],
      "metadata": {
        "colab": {
          "base_uri": "https://localhost:8080/"
        },
        "id": "5fkxbbCcfCjj",
        "outputId": "525e8624-22f9-4083-e87d-2696e64b983d"
      },
      "execution_count": null,
      "outputs": [
        {
          "output_type": "stream",
          "name": "stdout",
          "text": [
            "Dataset cleaned. Remaining records: 1000.\n",
            "Dataset cleaned. Remaining records: 1000.\n",
            "Preprocessing completed.\n"
          ]
        }
      ]
    },
    {
      "cell_type": "code",
      "source": [
        "def scale_data(text_data):\n",
        "    vectorizer = TfidfVectorizer(max_features=1000, stop_words='english')\n",
        "    tfidf_matrix = vectorizer.fit_transform(text_data)\n",
        "    print(f\"TF-IDF matrix shape: {tfidf_matrix.shape}\")\n",
        "\n",
        "    normalizer = Normalizer()\n",
        "    scaled_matrix = normalizer.fit_transform(tfidf_matrix)\n",
        "    print(f\"Normalized matrix shape: {scaled_matrix.shape}\")\n",
        "\n",
        "    return scaled_matrix, vectorizer.get_feature_names_out()"
      ],
      "metadata": {
        "id": "mNLObky0fF4d"
      },
      "execution_count": null,
      "outputs": []
    },
    {
      "cell_type": "code",
      "source": [
        "scaled_matrix, feature_names = scale_data(df['Konten'])"
      ],
      "metadata": {
        "colab": {
          "base_uri": "https://localhost:8080/"
        },
        "id": "p8fCTKFYfWKb",
        "outputId": "e3c1125b-0546-4857-8201-bf7ea8d3ad85"
      },
      "execution_count": null,
      "outputs": [
        {
          "output_type": "stream",
          "name": "stdout",
          "text": [
            "TF-IDF matrix shape: (1000, 1000)\n",
            "Normalized matrix shape: (1000, 1000)\n"
          ]
        }
      ]
    },
    {
      "cell_type": "code",
      "source": [
        "print(df)"
      ],
      "metadata": {
        "colab": {
          "base_uri": "https://localhost:8080/"
        },
        "id": "013o9DJyfYnJ",
        "outputId": "bffeda51-23c5-4e93-b33b-bf315f45f009"
      },
      "execution_count": null,
      "outputs": [
        {
          "output_type": "stream",
          "name": "stdout",
          "text": [
            "     Tanggal     Waktu                                             Konten  \\\n",
            "0    8/16/22   3:13 PM  Linda: Assalamu'alaikum temen temen. Pak Marma...   \n",
            "1    8/16/22   3:14 PM  Laily: Wa'alaikumussalam Tante, ga pake cap 3 ...   \n",
            "2    8/16/22   3:30 PM  Linda: Ya ambil ijazah kan mesti sambil cap 3 ...   \n",
            "3    8/16/22   3:31 PM                   Laily: Oke Tante Linda , makasih   \n",
            "4    8/16/22   3:31 PM  Ghulami'ah: Titip tangan, buat nanti cap tiga ...   \n",
            "..       ...       ...                                                ...   \n",
            "995  10/9/22   9:55 PM  Bos Riio: belajar bersama, lintas jurusan, lin...   \n",
            "996  10/9/22   9:58 PM                            +62 896-6897-3286: bner   \n",
            "997  10/9/22  10:00 PM                                    Venka: Nahh se7   \n",
            "998  10/9/22  10:06 PM                    Linda: Ayo blajarr yg tutor rio   \n",
            "999  10/9/22  10:06 PM                                   Linda: Bu deBBet   \n",
            "\n",
            "                                      Processed_Konten  \n",
            "0    linda assalamualaikum temen temen pak marman b...  \n",
            "1    laily waalaikumussalam tante ga pake cap 3 jar...  \n",
            "2    linda ya ambil ijazah kan mesti sambil cap 3 j...  \n",
            "3                        laily oke tante linda makasih  \n",
            "4    ghulamiah titip tangan buat nanti cap tiga jar...  \n",
            "..                                                 ...  \n",
            "995       bos riio ajar sama lintas jurus lintas unniv  \n",
            "996                                62 89668973286 bner  \n",
            "997                                     venka nahh se7  \n",
            "998                     linda ayo blajarr yg tutor rio  \n",
            "999                                    linda bu debbet  \n",
            "\n",
            "[1000 rows x 4 columns]\n"
          ]
        }
      ]
    },
    {
      "cell_type": "markdown",
      "source": [
        "#Clustering teks Dataset dengan K-Means"
      ],
      "metadata": {
        "id": "VyZIgNVDciOb"
      }
    },
    {
      "cell_type": "code",
      "source": [
        "def elbow_method(data, max_clusters=10):\n",
        "    distortions = []\n",
        "    k_values = range(1, max_clusters + 1)\n",
        "\n",
        "    for k in k_values:\n",
        "        kmeans = KMeans(n_clusters=k, random_state=42, n_init=10)\n",
        "        kmeans.fit(data)\n",
        "        distortions.append(kmeans.inertia_)\n",
        "\n",
        "    plt.figure(figsize=(8, 5))\n",
        "    plt.plot(k_values, distortions, marker='o', linestyle='--')\n",
        "    plt.title('Elbow Method')\n",
        "    plt.xlabel('Number of Clusters')\n",
        "    plt.ylabel('Inertia')\n",
        "    plt.grid()\n",
        "    plt.show()\n",
        "\n",
        "    return distortions"
      ],
      "metadata": {
        "id": "apP42_8JkFQj"
      },
      "execution_count": null,
      "outputs": []
    },
    {
      "cell_type": "code",
      "source": [
        "elbow_method(scaled_matrix)"
      ],
      "metadata": {
        "colab": {
          "base_uri": "https://localhost:8080/",
          "height": 669
        },
        "id": "UpCSGc9akG92",
        "outputId": "ab8c2c8d-3e56-4773-cfcd-b85a7bbfec2d"
      },
      "execution_count": null,
      "outputs": [
        {
          "output_type": "display_data",
          "data": {
            "text/plain": [
              "<Figure size 800x500 with 1 Axes>"
            ],
            "image/png": "[encoded data removed]"
          },
          "metadata": {}
        },
        {
          "output_type": "execute_result",
          "data": {
            "text/plain": [
              "[973.6987778800277,\n",
              " 932.9869708970635,\n",
              " 910.485105817183,\n",
              " 891.1693090310072,\n",
              " 873.290675540925,\n",
              " 861.0376437881501,\n",
              " 843.7200782647772,\n",
              " 832.8069984543148,\n",
              " 831.7487659623195,\n",
              " 810.2456713968521]"
            ]
          },
          "metadata": {},
          "execution_count": 22
        }
      ]
    },
    {
      "cell_type": "code",
      "source": [
        "def perform_kmeans(scaled_matrix, num_clusters=10):\n",
        "    kmeans = KMeans(n_clusters=num_clusters, random_state=42, n_init=10)\n",
        "    kmeans.fit(scaled_matrix)\n",
        "    print(f\"K-Means clustering completed with {num_clusters} clusters.\")\n",
        "    return kmeans.labels_"
      ],
      "metadata": {
        "id": "J7XJt1zkfZhK"
      },
      "execution_count": null,
      "outputs": []
    },
    {
      "cell_type": "markdown",
      "source": [],
      "metadata": {
        "id": "2QeptnN1k5pd"
      }
    },
    {
      "cell_type": "code",
      "source": [
        "labeling = perform_kmeans(scaled_matrix, num_clusters = 7)"
      ],
      "metadata": {
        "colab": {
          "base_uri": "https://localhost:8080/"
        },
        "id": "MrVGxGzagNWQ",
        "outputId": "84112ad7-1eff-4fd1-e739-e96610617f11"
      },
      "execution_count": null,
      "outputs": [
        {
          "output_type": "stream",
          "name": "stdout",
          "text": [
            "K-Means clustering completed with 7 clusters.\n"
          ]
        }
      ]
    },
    {
      "cell_type": "code",
      "source": [
        "\n",
        "output_file = \"labeled_data.csv\"\n",
        "\n",
        "def save_results(df, labels, output_file):\n",
        "    df['Cluster'] = labels\n",
        "    df.to_csv(output_file, index=False)\n",
        "    print(f\"Results saved to {output_file}.\")"
      ],
      "metadata": {
        "id": "v6ikdtnTffGT"
      },
      "execution_count": null,
      "outputs": []
    },
    {
      "cell_type": "code",
      "source": [
        "save_results(df, labeling, output_file)"
      ],
      "metadata": {
        "colab": {
          "base_uri": "https://localhost:8080/"
        },
        "id": "9SvS8CoXfqgd",
        "outputId": "c2757fc2-b2bd-4f5b-d02f-959f2f43d5f0"
      },
      "execution_count": null,
      "outputs": [
        {
          "output_type": "stream",
          "name": "stdout",
          "text": [
            "Results saved to labeled_data.csv.\n"
          ]
        }
      ]
    },
    {
      "cell_type": "code",
      "source": [
        "def count_per_cluster(labels):\n",
        "    unique, counts = np.unique(labels, return_counts=True)\n",
        "    cluster_counts = dict(zip(unique, counts))\n",
        "    print(f\"Jumlah data per kluster: {cluster_counts}\")\n",
        "    return cluster_counts\n",
        "\n",
        "cluster_counts = count_per_cluster(labeling)"
      ],
      "metadata": {
        "colab": {
          "base_uri": "https://localhost:8080/"
        },
        "id": "aW7vWvPafyub",
        "outputId": "3ee62c27-d907-4bf3-9edb-005a8984b793"
      },
      "execution_count": null,
      "outputs": [
        {
          "output_type": "stream",
          "name": "stdout",
          "text": [
            "Jumlah data per kluster: {0: 96, 1: 65, 2: 117, 3: 62, 4: 174, 5: 412, 6: 74}\n"
          ]
        }
      ]
    },
    {
      "cell_type": "code",
      "source": [],
      "metadata": {
        "id": "R7zLCoH_hiNw"
      },
      "execution_count": null,
      "outputs": []
    }
  ]
}